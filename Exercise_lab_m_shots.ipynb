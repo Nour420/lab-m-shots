{
  "nbformat": 4,
  "nbformat_minor": 0,
  "metadata": {
    "colab": {
      "provenance": []
    },
    "kernelspec": {
      "name": "python3",
      "display_name": "Python 3"
    },
    "language_info": {
      "name": "python"
    }
  },
  "cells": [
    {
      "cell_type": "markdown",
      "source": [],
      "metadata": {
        "id": "605PPIKDZSjb"
      }
    },
    {
      "cell_type": "code",
      "execution_count": 1,
      "metadata": {
        "colab": {
          "base_uri": "https://localhost:8080/"
        },
        "id": "XyOhZ2xXX-ly",
        "outputId": "2701fb83-87d8-455f-c0f2-07aaef9dccf0"
      },
      "outputs": [
        {
          "output_type": "stream",
          "name": "stdout",
          "text": [
            "Collecting openai\n",
            "  Downloading openai-1.34.0-py3-none-any.whl (325 kB)\n",
            "\u001b[2K     \u001b[90m━━━━━━━━━━━━━━━━━━━━━━━━━━━━━━━━━━━━━━━━\u001b[0m \u001b[32m325.5/325.5 kB\u001b[0m \u001b[31m1.7 MB/s\u001b[0m eta \u001b[36m0:00:00\u001b[0m\n",
            "\u001b[?25hRequirement already satisfied: anyio<5,>=3.5.0 in /usr/local/lib/python3.10/dist-packages (from openai) (3.7.1)\n",
            "Requirement already satisfied: distro<2,>=1.7.0 in /usr/lib/python3/dist-packages (from openai) (1.7.0)\n",
            "Collecting httpx<1,>=0.23.0 (from openai)\n",
            "  Downloading httpx-0.27.0-py3-none-any.whl (75 kB)\n",
            "\u001b[2K     \u001b[90m━━━━━━━━━━━━━━━━━━━━━━━━━━━━━━━━━━━━━━━━\u001b[0m \u001b[32m75.6/75.6 kB\u001b[0m \u001b[31m2.6 MB/s\u001b[0m eta \u001b[36m0:00:00\u001b[0m\n",
            "\u001b[?25hRequirement already satisfied: pydantic<3,>=1.9.0 in /usr/local/lib/python3.10/dist-packages (from openai) (2.7.3)\n",
            "Requirement already satisfied: sniffio in /usr/local/lib/python3.10/dist-packages (from openai) (1.3.1)\n",
            "Requirement already satisfied: tqdm>4 in /usr/local/lib/python3.10/dist-packages (from openai) (4.66.4)\n",
            "Requirement already satisfied: typing-extensions<5,>=4.7 in /usr/local/lib/python3.10/dist-packages (from openai) (4.12.2)\n",
            "Requirement already satisfied: idna>=2.8 in /usr/local/lib/python3.10/dist-packages (from anyio<5,>=3.5.0->openai) (3.7)\n",
            "Requirement already satisfied: exceptiongroup in /usr/local/lib/python3.10/dist-packages (from anyio<5,>=3.5.0->openai) (1.2.1)\n",
            "Requirement already satisfied: certifi in /usr/local/lib/python3.10/dist-packages (from httpx<1,>=0.23.0->openai) (2024.6.2)\n",
            "Collecting httpcore==1.* (from httpx<1,>=0.23.0->openai)\n",
            "  Downloading httpcore-1.0.5-py3-none-any.whl (77 kB)\n",
            "\u001b[2K     \u001b[90m━━━━━━━━━━━━━━━━━━━━━━━━━━━━━━━━━━━━━━━━\u001b[0m \u001b[32m77.9/77.9 kB\u001b[0m \u001b[31m5.3 MB/s\u001b[0m eta \u001b[36m0:00:00\u001b[0m\n",
            "\u001b[?25hCollecting h11<0.15,>=0.13 (from httpcore==1.*->httpx<1,>=0.23.0->openai)\n",
            "  Downloading h11-0.14.0-py3-none-any.whl (58 kB)\n",
            "\u001b[2K     \u001b[90m━━━━━━━━━━━━━━━━━━━━━━━━━━━━━━━━━━━━━━━━\u001b[0m \u001b[32m58.3/58.3 kB\u001b[0m \u001b[31m2.5 MB/s\u001b[0m eta \u001b[36m0:00:00\u001b[0m\n",
            "\u001b[?25hRequirement already satisfied: annotated-types>=0.4.0 in /usr/local/lib/python3.10/dist-packages (from pydantic<3,>=1.9.0->openai) (0.7.0)\n",
            "Requirement already satisfied: pydantic-core==2.18.4 in /usr/local/lib/python3.10/dist-packages (from pydantic<3,>=1.9.0->openai) (2.18.4)\n",
            "Installing collected packages: h11, httpcore, httpx, openai\n",
            "Successfully installed h11-0.14.0 httpcore-1.0.5 httpx-0.27.0 openai-1.34.0\n"
          ]
        }
      ],
      "source": [
        "# Install the OpenAI Python library\n",
        "!pip install openai"
      ]
    },
    {
      "cell_type": "code",
      "source": [
        "# Import openAI library and API key\n",
        "from openai import OpenAI\n",
        "from google.colab import userdata\n",
        "OPENAI_API_KEY = userdata.get('OPENAI_API_KEY')"
      ],
      "metadata": {
        "id": "Pa-likexYWpt"
      },
      "execution_count": 2,
      "outputs": []
    },
    {
      "cell_type": "code",
      "source": [
        "# Function to call the model.\n",
        "def return_OAIResponse(user_message, context):\n",
        "    client = OpenAI(\n",
        "    # This is the default and can be omitted\n",
        "    api_key=OPENAI_API_KEY,\n",
        ")\n",
        "\n",
        "    newcontext = context.copy()\n",
        "    newcontext.append({'role':'user', 'content':\"question: \" + user_message})\n",
        "\n",
        "    response = client.chat.completions.create(\n",
        "            model=\"gpt-3.5-turbo\",\n",
        "            messages=newcontext,\n",
        "            temperature=1,\n",
        "        )\n",
        "\n",
        "    return (response.choices[0].message.content)"
      ],
      "metadata": {
        "id": "EIDqNhfZYbA1"
      },
      "execution_count": 3,
      "outputs": []
    },
    {
      "cell_type": "markdown",
      "source": [
        "Zero-shot"
      ],
      "metadata": {
        "id": "zPfWP39BZtnv"
      }
    },
    {
      "cell_type": "code",
      "source": [
        "# Zero-shot\n",
        "context_user = [\n",
        "    {'role':'system', 'content':'You are a skilled writer of fantasy short stories.'}\n",
        "]\n",
        "print(return_OAIResponse(\"Write a 30+ word discribe your fantasie about heaven\", context_user))"
      ],
      "metadata": {
        "colab": {
          "base_uri": "https://localhost:8080/"
        },
        "id": "9p0NfWLMZvyQ",
        "outputId": "f9046572-4769-4f8d-94a7-b4e5e0c07d65"
      },
      "execution_count": 4,
      "outputs": [
        {
          "output_type": "stream",
          "name": "stdout",
          "text": [
            "In my fantasy, heaven is a realm of endless beauty, where shimmering golden gates open to reveal sprawling meadows filled with vibrant flowers and crystal-clear rivers flowing with the sweetest nectar. Serene music fills the air, and gentle creatures glide through the sky, their wings glistening in the warm sunlight. Every soul is enveloped in a sense of peace and joy, surrounded by loved ones and guided by wise spirits. It is a place of boundless love and eternal harmony, where every dream is fulfilled and every heart is content.\n"
          ]
        }
      ]
    },
    {
      "cell_type": "code",
      "source": [
        "context_user = [\n",
        "    {'role':'system', 'content':'You are an expert in the FIFA World Cup.'}\n",
        "]\n",
        "print(return_OAIResponse(\"Who won the 1934 FIFA World Cup?\", context_user))\n"
      ],
      "metadata": {
        "colab": {
          "base_uri": "https://localhost:8080/"
        },
        "id": "HtZX5BzZaQF3",
        "outputId": "588639d1-dea2-4273-c320-fd0e45420752"
      },
      "execution_count": 5,
      "outputs": [
        {
          "output_type": "stream",
          "name": "stdout",
          "text": [
            "Italy won the 1934 FIFA World Cup. They defeated Czechoslovakia 2-1 in the final to claim their first-ever World Cup title.\n"
          ]
        }
      ]
    },
    {
      "cell_type": "markdown",
      "source": [
        "One-shot"
      ],
      "metadata": {
        "id": "b0hBL9HgaxTz"
      }
    },
    {
      "cell_type": "code",
      "source": [
        "# One-shot\n",
        "context_user = [\n",
        "    {'role':'system', 'content':\n",
        "     \"\"\"You know the history of football and yet the present.\n",
        "\n",
        "     The world cup 1986 won by Argentina in Mexico, when Maradona was leading the Tango team\n",
        "     Stadium: Estadio Azteca, Mexico City\n",
        "     goal scorers: José Luis Brown opened the scoring for Argentina, Jorge Valdano doubled for Argentina, Karl-Heinz Rummenigge for west Germany, Rudi Völler scoring for west Germany,\n",
        "     Jorge Burruchaga scoring the win goeal for Argentina.\n",
        "     \"\"\"\n",
        "    }\n",
        "]\n",
        "print(return_OAIResponse(\"Who won the FIFA World cup in 2010?\", context_user))\n"
      ],
      "metadata": {
        "colab": {
          "base_uri": "https://localhost:8080/"
        },
        "id": "gTFBqPUSazgH",
        "outputId": "c3880ca5-feb2-406a-964e-9bf31e6346c5"
      },
      "execution_count": 9,
      "outputs": [
        {
          "output_type": "stream",
          "name": "stdout",
          "text": [
            "Spain won the FIFA World Cup in 2010, held in South Africa. They defeated the Netherlands 1-0 in the final with a goal scored by Andrés Iniesta in extra time. It was Spain's first-ever World Cup victory.\n"
          ]
        }
      ]
    },
    {
      "cell_type": "code",
      "source": [
        "context_user = [\n",
        "    {'role':'system', 'content':\n",
        "     \"\"\"You are an expert in football history and current events.\n",
        "\n",
        "     The 2010 Ballon d'Or was won by Lionel Messi, and the 2010 Ballon d'Or was also won by Lionel Messi after scoring 47 goals and 11 assists.\n",
        "     \"\"\"\n",
        "    }\n",
        "]\n",
        "print(return_OAIResponse(\"Who won the Ballon d'Or in 2012 and what statictics?\", context_user))"
      ],
      "metadata": {
        "colab": {
          "base_uri": "https://localhost:8080/"
        },
        "id": "VzszFud6dBdn",
        "outputId": "c6de8c0b-dccd-4e11-fa56-577c08736fba"
      },
      "execution_count": 16,
      "outputs": [
        {
          "output_type": "stream",
          "name": "stdout",
          "text": [
            "The Ballon d'Or in 2012 was won by Lionel Messi for the fourth consecutive year. He won the award after an outstanding season in which he scored 91 goals and provided 22 assists for Barcelona and Argentina. This remarkable achievement solidified Messi's status as one of the greatest footballers of all time.\n"
          ]
        }
      ]
    },
    {
      "cell_type": "markdown",
      "source": [
        "Few-shots"
      ],
      "metadata": {
        "id": "Q4t4zJNSiAAY"
      }
    },
    {
      "cell_type": "code",
      "source": [
        "# Few-shots\n",
        "context_user = [\n",
        "    {'role':'system', 'content':\n",
        "     \"\"\"You are an expert in the history of the UEFA Champions League.\n",
        "\n",
        "     The 2020 UEFA Champions League was won by Bayern Munich, with Hansi Flick as their head coach.\n",
        "\n",
        "     The 2019 UEFA Champions League was won by Liverpool, with Jürgen Klopp as their head coach.\n",
        "\n",
        "     The 2018 UEFA Champions League was won by Real Madrid, with Zinedine Zidane as their head coach.\n",
        "     \"\"\"\n",
        "    }\n",
        "]\n",
        "print(return_OAIResponse(\"Who won the UCL in 2018\", context_user))\n"
      ],
      "metadata": {
        "colab": {
          "base_uri": "https://localhost:8080/"
        },
        "id": "nyJ8qZUHhWNa",
        "outputId": "c73939ea-fb8b-4137-c1b1-ecae351cf5b6"
      },
      "execution_count": 24,
      "outputs": [
        {
          "output_type": "stream",
          "name": "stdout",
          "text": [
            "Real Madrid won the UEFA Champions League in 2018 with Zinedine Zidane as their head coach.\n"
          ]
        }
      ]
    },
    {
      "cell_type": "code",
      "source": [
        "context_user = [\n",
        "    {'role':'system', 'content':\n",
        "     \"\"\"You are an expert in reviewing and classifying opinions about the winners of the Emmy Award for Outstanding Drama Series.\n",
        "\n",
        "     The 2020 Emmy Award for Outstanding Drama Series was won by \"Succession\". The reviews for this show were overwhelmingly positive, with critics praising the writing, acting, and overall storytelling.\n",
        "     Sentiment: Positive\n",
        "\n",
        "     The 2019 Emmy Award for Outstanding Drama Series was won by \"Game of Thrones\". While the final season of the show received mixed reviews, the overall sentiment towards the series was very positive.\n",
        "     Sentiment: Positive\n",
        "\n",
        "     The 2018 Emmy Award for Outstanding Drama Series was won by \"The Crown\". The show has consistently received critical acclaim and positive reviews from viewers.\n",
        "     Sentiment: Positive\n",
        "     \"\"\"\n",
        "    }\n",
        "]\n",
        "print(return_OAIResponse(\"What TV show won the Emmy award in 2015\", context_user))\n",
        "\n"
      ],
      "metadata": {
        "colab": {
          "base_uri": "https://localhost:8080/"
        },
        "id": "acriCwx7j2z4",
        "outputId": "04c6aa59-c5d5-4e7a-f05e-0766bf197226"
      },
      "execution_count": 23,
      "outputs": [
        {
          "output_type": "stream",
          "name": "stdout",
          "text": [
            "The TV show that won the Emmy Award for Outstanding Drama Series in 2015 was \"Game of Thrones\".\n"
          ]
        }
      ]
    }
  ]
}